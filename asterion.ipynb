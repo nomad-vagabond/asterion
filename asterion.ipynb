{
 "cells": [
  {
   "cell_type": "markdown",
   "metadata": {},
   "source": [
    "# Analysis of hazardous asteroids' orbital parameters"
   ]
  },
  {
   "cell_type": "markdown",
   "metadata": {},
   "source": [
    "Using data on already discovered asteroid's we'll try to analyse orbital parameters of hazardous asteroids and  find out orbits or familes of orbits with high probability of yet undiscovered potentially hazardous asteroids existance."
   ]
  },
  {
   "cell_type": "code",
   "execution_count": 8,
   "metadata": {
    "collapsed": true
   },
   "outputs": [],
   "source": [
    "import numpy as np\n",
    "import pickle, sys, os, time\n",
    "import pandas as pd\n",
    "import read_database as rdb\n"
   ]
  },
  {
   "cell_type": "markdown",
   "metadata": {},
   "source": [
    "**Define constants:**"
   ]
  },
  {
   "cell_type": "code",
   "execution_count": 18,
   "metadata": {
    "collapsed": true
   },
   "outputs": [],
   "source": [
    "G = 6.67384e-11\n",
    "M = 1.989e30\n",
    "AU = 149597870700"
   ]
  },
  {
   "cell_type": "markdown",
   "metadata": {},
   "source": [
    "### JPL ASTEROID DATABASE"
   ]
  },
  {
   "cell_type": "markdown",
   "metadata": {},
   "source": [
    "**Load asteroid database:**"
   ]
  },
  {
   "cell_type": "code",
   "execution_count": 20,
   "metadata": {
    "collapsed": false
   },
   "outputs": [
    {
     "name": "stdout",
     "output_type": "stream",
     "text": [
      "db_head:\n",
      "  neo pha     H      epoch         e         a         q          i  \\\n",
      "0   N   N  3.34  2457200.5  0.075783  2.767972  2.558208  10.592305   \n",
      "1   N   N  4.13  2457200.5  0.231158  2.772004  2.131234  34.840258   \n",
      "2   N   N  5.33  2457200.5  0.255830  2.671073  1.987732  12.986619   \n",
      "3   N   N  3.20  2457200.5  0.088834  2.361913  2.152095   7.140096   \n",
      "4   N   N  6.85  2457200.5  0.191188  2.573480  2.081462   5.368549   \n",
      "\n",
      "           om           w          ma         n          per     moid  \n",
      "0   80.327198   72.654146  138.662175  0.214023  1682.058334  1.59427  \n",
      "1  173.092151  309.965564  120.919026  0.213557  1685.734286  1.23108  \n",
      "2  169.860102  248.399241   78.215743  0.225775  1594.509751  1.03987  \n",
      "3  103.849635  151.188504   75.172676  0.271524  1325.849757  1.13975  \n",
      "4  141.595776  358.969279  307.898284  0.238739  1507.924540  1.09509  \n"
     ]
    }
   ],
   "source": [
    "database_path = \"./asteroid_data/latest_fulldb.csv\"\n",
    "\n",
    "if not os.path.exists(database_path):\n",
    "    database_url = \"http://www.ianww.com/latest_fulldb.csv\"\n",
    "    retrieve_database(database_url, database_path, verbose=True)\n",
    "\n",
    "database = pd.read_csv(database_path, sep=',', usecols=[\n",
    "                       'a', 'e', 'i', 'w', 'om', 'q', 'H', 'neo',\n",
    "                       'pha', 'moid', 'per', 'n', 'ma', 'epoch'], \n",
    "                       low_memory=False)\n",
    "\n",
    "db_head = database[:5]\n",
    "print \"db_head:\\n\", db_head"
   ]
  },
  {
   "cell_type": "markdown",
   "metadata": {},
   "source": [
    "**Extract NEOs:**"
   ]
  },
  {
   "cell_type": "code",
   "execution_count": 6,
   "metadata": {
    "collapsed": false
   },
   "outputs": [],
   "source": [
    "neo, num_neo = rdb.get_neo(database)"
   ]
  },
  {
   "cell_type": "markdown",
   "metadata": {},
   "source": [
    "**Recalculate MOID using orbital parameters:**"
   ]
  },
  {
   "cell_type": "code",
   "execution_count": 21,
   "metadata": {
    "collapsed": false
   },
   "outputs": [],
   "source": [
    "#rdb.calc_moid(neo, verbose=True)"
   ]
  },
  {
   "cell_type": "markdown",
   "metadata": {},
   "source": [
    "**Split NEOs by groups:**"
   ]
  },
  {
   "cell_type": "code",
   "execution_count": 11,
   "metadata": {
    "collapsed": false
   },
   "outputs": [],
   "source": [
    "apollos, num_apollos = rdb.get_apollos(neo)\n",
    "atens, num_atens = rdb.get_atens(neo)\n",
    "amors, num_amors = rdb.get_amors(neo)\n",
    "\n",
    "# print \"apollos:\", num_apollos, \"neo:\", num_neo, \"ratio:\", num_apollos/float(num_neo)\n",
    "# print \"atens:\", num_atens, \"neo:\", num_neo, \"ratio:\", num_atens/float(num_neo)\n",
    "# print \"amors:\", num_amors, \"neo:\", num_neo, \"ratio:\", num_amors/float(num_neo)"
   ]
  },
  {
   "cell_type": "markdown",
   "metadata": {},
   "source": [
    "**Cut off apollo asteroids with extreme orbital parameters:**"
   ]
  },
  {
   "cell_type": "code",
   "execution_count": 12,
   "metadata": {
    "collapsed": true
   },
   "outputs": [],
   "source": [
    "apollos, num_apollos = rdb.cutoff_outcasts(apollos)"
   ]
  },
  {
   "cell_type": "markdown",
   "metadata": {},
   "source": [
    "## GENERATE RANDOM ASTEROIDS"
   ]
  },
  {
   "cell_type": "code",
   "execution_count": null,
   "metadata": {
    "collapsed": true
   },
   "outputs": [],
   "source": []
  }
 ],
 "metadata": {
  "kernelspec": {
   "display_name": "Python 2",
   "language": "python",
   "name": "python2"
  },
  "language_info": {
   "codemirror_mode": {
    "name": "ipython",
    "version": 2
   },
   "file_extension": ".py",
   "mimetype": "text/x-python",
   "name": "python",
   "nbconvert_exporter": "python",
   "pygments_lexer": "ipython2",
   "version": "2.7.6"
  }
 },
 "nbformat": 4,
 "nbformat_minor": 0
}

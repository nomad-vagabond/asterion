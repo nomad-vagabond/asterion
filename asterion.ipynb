{
 "cells": [
  {
   "cell_type": "markdown",
   "metadata": {},
   "source": [
    "# Analysis of hazardous asteroids' orbital parameters"
   ]
  },
  {
   "cell_type": "markdown",
   "metadata": {},
   "source": [
    "Using data on already discovered asteroid's we'll try to analyse orbital parameters of hazardous asteroids and  find out orbits or familes of orbits with high probability of yet undiscovered potentially hazardous asteroids existance."
   ]
  },
  {
   "cell_type": "code",
   "execution_count": 1,
   "metadata": {
    "collapsed": true
   },
   "outputs": [],
   "source": [
    "import pickle, sys, os, time\n",
    "import numpy as np\n",
    "# import pandas as pd\n",
    "import scipy.stats as ss\n",
    "\n",
    "import read_database as rdb\n",
    "import generate_orbits as go"
   ]
  },
  {
   "cell_type": "markdown",
   "metadata": {},
   "source": [
    "### JPL ASTEROID DATABASE"
   ]
  },
  {
   "cell_type": "markdown",
   "metadata": {},
   "source": [
    "**Load asteroid database:**"
   ]
  },
  {
   "cell_type": "code",
   "execution_count": 4,
   "metadata": {
    "collapsed": false
   },
   "outputs": [
    {
     "name": "stdout",
     "output_type": "stream",
     "text": [
      "Loading asteroid database...\n",
      "Asteroid database loaded in 3.114710 seconds.\n"
     ]
    },
    {
     "data": {
      "text/html": [
       "<div>\n",
       "<table border=\"1\" class=\"dataframe\">\n",
       "  <thead>\n",
       "    <tr style=\"text-align: right;\">\n",
       "      <th></th>\n",
       "      <th>neo</th>\n",
       "      <th>pha</th>\n",
       "      <th>H</th>\n",
       "      <th>epoch</th>\n",
       "      <th>e</th>\n",
       "      <th>a</th>\n",
       "      <th>q</th>\n",
       "      <th>i</th>\n",
       "      <th>om</th>\n",
       "      <th>w</th>\n",
       "      <th>ma</th>\n",
       "      <th>n</th>\n",
       "      <th>per</th>\n",
       "      <th>moid</th>\n",
       "    </tr>\n",
       "  </thead>\n",
       "  <tbody>\n",
       "    <tr>\n",
       "      <th>0</th>\n",
       "      <td>N</td>\n",
       "      <td>N</td>\n",
       "      <td>3.34</td>\n",
       "      <td>2457200.5</td>\n",
       "      <td>0.075783</td>\n",
       "      <td>2.767972</td>\n",
       "      <td>2.558208</td>\n",
       "      <td>10.592305</td>\n",
       "      <td>80.327198</td>\n",
       "      <td>72.654146</td>\n",
       "      <td>138.662175</td>\n",
       "      <td>0.214023</td>\n",
       "      <td>1682.058334</td>\n",
       "      <td>1.59427</td>\n",
       "    </tr>\n",
       "    <tr>\n",
       "      <th>1</th>\n",
       "      <td>N</td>\n",
       "      <td>N</td>\n",
       "      <td>4.13</td>\n",
       "      <td>2457200.5</td>\n",
       "      <td>0.231158</td>\n",
       "      <td>2.772004</td>\n",
       "      <td>2.131234</td>\n",
       "      <td>34.840258</td>\n",
       "      <td>173.092151</td>\n",
       "      <td>309.965564</td>\n",
       "      <td>120.919026</td>\n",
       "      <td>0.213557</td>\n",
       "      <td>1685.734286</td>\n",
       "      <td>1.23108</td>\n",
       "    </tr>\n",
       "    <tr>\n",
       "      <th>2</th>\n",
       "      <td>N</td>\n",
       "      <td>N</td>\n",
       "      <td>5.33</td>\n",
       "      <td>2457200.5</td>\n",
       "      <td>0.255830</td>\n",
       "      <td>2.671073</td>\n",
       "      <td>1.987732</td>\n",
       "      <td>12.986619</td>\n",
       "      <td>169.860102</td>\n",
       "      <td>248.399241</td>\n",
       "      <td>78.215743</td>\n",
       "      <td>0.225775</td>\n",
       "      <td>1594.509751</td>\n",
       "      <td>1.03987</td>\n",
       "    </tr>\n",
       "    <tr>\n",
       "      <th>3</th>\n",
       "      <td>N</td>\n",
       "      <td>N</td>\n",
       "      <td>3.20</td>\n",
       "      <td>2457200.5</td>\n",
       "      <td>0.088834</td>\n",
       "      <td>2.361913</td>\n",
       "      <td>2.152095</td>\n",
       "      <td>7.140096</td>\n",
       "      <td>103.849635</td>\n",
       "      <td>151.188504</td>\n",
       "      <td>75.172676</td>\n",
       "      <td>0.271524</td>\n",
       "      <td>1325.849757</td>\n",
       "      <td>1.13975</td>\n",
       "    </tr>\n",
       "    <tr>\n",
       "      <th>4</th>\n",
       "      <td>N</td>\n",
       "      <td>N</td>\n",
       "      <td>6.85</td>\n",
       "      <td>2457200.5</td>\n",
       "      <td>0.191188</td>\n",
       "      <td>2.573480</td>\n",
       "      <td>2.081462</td>\n",
       "      <td>5.368549</td>\n",
       "      <td>141.595776</td>\n",
       "      <td>358.969279</td>\n",
       "      <td>307.898284</td>\n",
       "      <td>0.238739</td>\n",
       "      <td>1507.924540</td>\n",
       "      <td>1.09509</td>\n",
       "    </tr>\n",
       "  </tbody>\n",
       "</table>\n",
       "</div>"
      ],
      "text/plain": [
       "  neo pha     H      epoch         e         a         q          i  \\\n",
       "0   N   N  3.34  2457200.5  0.075783  2.767972  2.558208  10.592305   \n",
       "1   N   N  4.13  2457200.5  0.231158  2.772004  2.131234  34.840258   \n",
       "2   N   N  5.33  2457200.5  0.255830  2.671073  1.987732  12.986619   \n",
       "3   N   N  3.20  2457200.5  0.088834  2.361913  2.152095   7.140096   \n",
       "4   N   N  6.85  2457200.5  0.191188  2.573480  2.081462   5.368549   \n",
       "\n",
       "           om           w          ma         n          per     moid  \n",
       "0   80.327198   72.654146  138.662175  0.214023  1682.058334  1.59427  \n",
       "1  173.092151  309.965564  120.919026  0.213557  1685.734286  1.23108  \n",
       "2  169.860102  248.399241   78.215743  0.225775  1594.509751  1.03987  \n",
       "3  103.849635  151.188504   75.172676  0.271524  1325.849757  1.13975  \n",
       "4  141.595776  358.969279  307.898284  0.238739  1507.924540  1.09509  "
      ]
     },
     "execution_count": 4,
     "metadata": {},
     "output_type": "execute_result"
    }
   ],
   "source": [
    "# database_path = \"./asteroid_data/latest_fulldb.csv\"\n",
    "\n",
    "# if not os.path.exists(database_path):\n",
    "#     database_url = \"http://www.ianww.com/latest_fulldb.csv\"\n",
    "#     rdb.retrieve_database(database_url, database_path, jobtime=True)\n",
    "\n",
    "columns = ['a', 'e', 'i', 'w', 'om', 'q', 'H', 'neo', \n",
    "               'pha', 'moid', 'per', 'n', 'ma', 'epoch']\n",
    "# database = rdb.read_csv(database_path, sep=',', usecols=columns,\n",
    "#                         low_memory=False, jobtime=True)\n",
    "\n",
    "database = rdb.load_database(columns, jobtime=True)\n",
    "database.head(n=5)"
   ]
  },
  {
   "cell_type": "markdown",
   "metadata": {},
   "source": [
    "**Extract NEOs:**"
   ]
  },
  {
   "cell_type": "code",
   "execution_count": 5,
   "metadata": {
    "collapsed": false
   },
   "outputs": [],
   "source": [
    "neo, num_neo = rdb.get_neo(database, columns)"
   ]
  },
  {
   "cell_type": "markdown",
   "metadata": {},
   "source": [
    "**Recalculate MOID using orbital parameters:**"
   ]
  },
  {
   "cell_type": "code",
   "execution_count": null,
   "metadata": {
    "collapsed": false
   },
   "outputs": [],
   "source": [
    "#rdb.calc_moid(neo, verbose=True)"
   ]
  },
  {
   "cell_type": "markdown",
   "metadata": {},
   "source": [
    "**Split NEOs by groups:**"
   ]
  },
  {
   "cell_type": "code",
   "execution_count": 6,
   "metadata": {
    "collapsed": false
   },
   "outputs": [],
   "source": [
    "apollos, num_apollos = rdb.get_apollos(neo)\n",
    "atens, num_atens = rdb.get_atens(neo)\n",
    "amors, num_amors = rdb.get_amors(neo)\n",
    "\n",
    "# print \"apollos:\", num_apollos, \"neo:\", num_neo, \"ratio:\", num_apollos/float(num_neo)\n",
    "# print \"atens:\", num_atens, \"neo:\", num_neo, \"ratio:\", num_atens/float(num_neo)\n",
    "# print \"amors:\", num_amors, \"neo:\", num_neo, \"ratio:\", num_amors/float(num_neo)"
   ]
  },
  {
   "cell_type": "markdown",
   "metadata": {},
   "source": [
    "**Cut off apollo asteroids with extreme orbital parameters:**"
   ]
  },
  {
   "cell_type": "code",
   "execution_count": 7,
   "metadata": {
    "collapsed": true
   },
   "outputs": [],
   "source": [
    "apollos, num_apollos = rdb.cutoff_outcasts(apollos)"
   ]
  },
  {
   "cell_type": "markdown",
   "metadata": {},
   "source": [
    "## GENERATE RANDOM ASTEROIDS"
   ]
  },
  {
   "cell_type": "markdown",
   "metadata": {
    "collapsed": true
   },
   "source": [
    "**Specify a subset of asteroid parameters:**"
   ]
  },
  {
   "cell_type": "code",
   "execution_count": 8,
   "metadata": {
    "collapsed": true
   },
   "outputs": [],
   "source": [
    "names = ['a', 'i', 'w', 'om', 'q']\n",
    "data_subset = apollos[names]"
   ]
  },
  {
   "cell_type": "markdown",
   "metadata": {},
   "source": [
    "**Pick an appropriate range of continuous distributions to fit parameters subset:**"
   ]
  },
  {
   "cell_type": "code",
   "execution_count": 9,
   "metadata": {
    "collapsed": false
   },
   "outputs": [],
   "source": [
    "statdists = [ss.chi, ss.gamma, ss.uniform, ss.uniform, ss.beta, ss.uniform, ss.beta]"
   ]
  },
  {
   "cell_type": "markdown",
   "metadata": {},
   "source": [
    "**Find curve fitted continuous distributions:**"
   ]
  },
  {
   "cell_type": "code",
   "execution_count": 10,
   "metadata": {
    "collapsed": false
   },
   "outputs": [
    {
     "name": "stdout",
     "output_type": "stream",
     "text": [
      "Data cdf(xmax): 1.000000 \tchi_cdf(xmax): 0.999706\n",
      "Data cdf(xmax): 1.000000 \tgamma_cdf(xmax): 0.999582\n",
      "Data cdf(xmax): 1.000000 \tuniform_cdf(xmax): 1.000000\n",
      "Data cdf(xmax): 1.000000 \tuniform_cdf(xmax): 1.000000\n",
      "Data cdf(xmax): 1.000000 \tbeta_cdf(xmax): 0.979745\n"
     ]
    }
   ],
   "source": [
    "distlist = go.get_param_distributions(data_subset, names, statdists, verbose=True)"
   ]
  },
  {
   "cell_type": "markdown",
   "metadata": {},
   "source": [
    "**Generate random asteroids on the basis of the fitted parameter distributions:**"
   ]
  },
  {
   "cell_type": "code",
   "execution_count": 11,
   "metadata": {
    "collapsed": true
   },
   "outputs": [],
   "source": [
    "params_minmax = go.get_param_bounds(data_subset, names)\n",
    "randdata = go.gen_rand_orbits(params_minmax, names, distlist, num=100)"
   ]
  },
  {
   "cell_type": "code",
   "execution_count": 12,
   "metadata": {
    "collapsed": true
   },
   "outputs": [],
   "source": [
    "go.plot_param_distributions(distlist, names)"
   ]
  },
  {
   "cell_type": "code",
   "execution_count": null,
   "metadata": {
    "collapsed": true
   },
   "outputs": [],
   "source": []
  }
 ],
 "metadata": {
  "kernelspec": {
   "display_name": "Python 2",
   "language": "python",
   "name": "python2"
  },
  "language_info": {
   "codemirror_mode": {
    "name": "ipython",
    "version": 2
   },
   "file_extension": ".py",
   "mimetype": "text/x-python",
   "name": "python",
   "nbconvert_exporter": "python",
   "pygments_lexer": "ipython2",
   "version": "2.7.6"
  }
 },
 "nbformat": 4,
 "nbformat_minor": 0
}

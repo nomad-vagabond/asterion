{
 "cells": [
  {
   "cell_type": "code",
   "execution_count": 1,
   "metadata": {
    "collapsed": true
   },
   "outputs": [],
   "source": [
    "import pickle\n",
    "from copy import copy, deepcopy\n",
    "import numpy as np\n",
    "import pandas as pd\n",
    "from sklearn import neighbors, svm\n",
    "import matplotlib as mpl\n",
    "\n",
    "# Import Asterion modules\n",
    "import read_database as rdb\n",
    "import learn_data as ld\n",
    "import asterion_learn as al\n",
    "import visualize_data as vd\n",
    "\n",
    "# Plotting settings for the current notebook\n",
    "%matplotlib inline\n",
    "font = {'size': 20}\n",
    "mpl.rc('font', **font)\n",
    "plotgrid = np.array([[0.0, 0.0], [1.0, 1.0]])"
   ]
  },
  {
   "cell_type": "markdown",
   "metadata": {},
   "source": [
    "** Load generated and real NEAs from the domain #4 **"
   ]
  },
  {
   "cell_type": "code",
   "execution_count": 2,
   "metadata": {
    "collapsed": true
   },
   "outputs": [],
   "source": [
    "dirpath = './asteroid_data/'\n",
    "real_datasets = ['haz_real', 'nohaz_real']\n",
    "gen_datasets = ['haz_gen', 'nohaz_gen']\n",
    "genu_datasets = ['haz_gen', 'nohaz_gen']\n",
    "name_suffixes = ['_dom4.p', '_dom4_rest.p']"
   ]
  },
  {
   "cell_type": "code",
   "execution_count": 3,
   "metadata": {
    "collapsed": true
   },
   "outputs": [],
   "source": [
    "dumps_real = [dirpath + ds + ns for ns in name_suffixes for ds in real_datasets]\n",
    "dumps_gen = [dirpath + ds + ns for ns in name_suffixes for ds in gen_datasets]\n",
    "dumps_genu = [dirpath + ds + ns for ns in name_suffixes for ds in genu_datasets]\n",
    "\n",
    "haz_real, nohaz_real, haz_real_rest, nohaz_real_rest = map(rdb.loadObject, dumps_real)\n",
    "haz_gen, nohaz_gen, haz_gen_rest, nohaz_gen_rest = map(rdb.loadObject, dumps_gen)\n",
    "haz_genu, nohaz_genu, haz_genu_rest, nohaz_genu_rest = map(rdb.loadObject, dumps_genu)"
   ]
  },
  {
   "cell_type": "code",
   "execution_count": 4,
   "metadata": {
    "collapsed": false
   },
   "outputs": [
    {
     "name": "stdout",
     "output_type": "stream",
     "text": [
      "Number of virtual asteroids in the domain: 50765\n",
      "Number of real asteroids in the domain: 3561\n"
     ]
    }
   ],
   "source": [
    "gen_num = sum(map(len, [haz_gen, nohaz_gen]))\n",
    "real_num = sum(map(len, [haz_real, nohaz_real]))\n",
    "\n",
    "print \"Number of virtual asteroids in the domain:\", gen_num\n",
    "print \"Number of real asteroids in the domain:\", real_num"
   ]
  },
  {
   "cell_type": "markdown",
   "metadata": {},
   "source": [
    "## Count down cummulative purity of the domain"
   ]
  },
  {
   "cell_type": "markdown",
   "metadata": {},
   "source": [
    "** Virtual asteroids **"
   ]
  },
  {
   "cell_type": "code",
   "execution_count": 5,
   "metadata": {
    "collapsed": false
   },
   "outputs": [
    {
     "name": "stdout",
     "output_type": "stream",
     "text": [
      "Number of correctly classified virtual PHAs 45450\n",
      "Number of trapped virtual NHAs: 5315\n",
      "\n",
      "Mass fraction of correctly classified virtual PHAs: 1.0\n",
      "Mass fraction of trapped virtual NHAs: 1.0\n",
      "\n",
      "Cummulative purity of the outlined PHA regions: 0.895301881217\n"
     ]
    }
   ],
   "source": [
    "vd.print_summary([haz_gen], [nohaz_gen], haz_gen, nohaz_gen, 'virtual')"
   ]
  },
  {
   "cell_type": "markdown",
   "metadata": {},
   "source": [
    "** Real asteroids **"
   ]
  },
  {
   "cell_type": "code",
   "execution_count": 6,
   "metadata": {
    "collapsed": false
   },
   "outputs": [
    {
     "name": "stdout",
     "output_type": "stream",
     "text": [
      "Number of correctly classified real PHAs 3321\n",
      "Number of trapped real NHAs: 240\n",
      "\n",
      "Mass fraction of correctly classified real PHAs: 1.0\n",
      "Mass fraction of trapped real NHAs: 1.0\n",
      "\n",
      "Cummulative purity of the outlined PHA regions: 0.932603201348\n"
     ]
    }
   ],
   "source": [
    "vd.print_summary([haz_real], [nohaz_real], haz_real, nohaz_real, 'real')"
   ]
  },
  {
   "cell_type": "code",
   "execution_count": null,
   "metadata": {
    "collapsed": true
   },
   "outputs": [],
   "source": []
  }
 ],
 "metadata": {
  "kernelspec": {
   "display_name": "Python 2",
   "language": "python",
   "name": "python2"
  },
  "language_info": {
   "codemirror_mode": {
    "name": "ipython",
    "version": 2
   },
   "file_extension": ".py",
   "mimetype": "text/x-python",
   "name": "python",
   "nbconvert_exporter": "python",
   "pygments_lexer": "ipython2",
   "version": "2.7.3"
  }
 },
 "nbformat": 4,
 "nbformat_minor": 0
}
